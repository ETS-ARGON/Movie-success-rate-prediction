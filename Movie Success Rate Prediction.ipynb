{
 "cells": [
  {
   "cell_type": "code",
   "execution_count": 1,
   "id": "3c93d3d8",
   "metadata": {},
   "outputs": [],
   "source": [
    "import numpy as np \n",
    "import pandas as pd\n",
    "import seaborn as sns\n",
    "import matplotlib.pyplot as plt\n",
    "from sklearn.model_selection import train_test_split\n",
    "from sklearn.linear_model import LogisticRegression\n",
    "from sklearn.metrics import confusion_matrix\n",
    "from sklearn.preprocessing import StandardScaler\n",
    "from sklearn.neighbors import KNeighborsClassifier\n",
    "from sklearn.tree import DecisionTreeClassifier\n",
    "from sklearn.feature_extraction.text import TfidfVectorizer\n",
    "from sklearn.preprocessing import MultiLabelBinarizer\n",
    "from sklearn.ensemble import RandomForestClassifier\n",
    "from sklearn.metrics import accuracy_score, precision_score, recall_score, f1_score, classification_report\n",
    "from sklearn.model_selection import train_test_split, GridSearchCV\n",
    "from sklearn.ensemble import RandomForestRegressor, GradientBoostingRegressor\n",
    "from sklearn.metrics import mean_absolute_error, mean_squared_error, r2_score\n",
    "from scipy.sparse import hstack"
   ]
  },
  {
   "cell_type": "markdown",
   "id": "c8bcf1a1",
   "metadata": {},
   "source": [
    "# Understanding Data"
   ]
  },
  {
   "cell_type": "code",
   "execution_count": 2,
   "id": "e202d7c9",
   "metadata": {},
   "outputs": [],
   "source": [
    "df = pd.read_csv(\"Movie Success Rate Prediction Dataset/movie_success_rate.csv\")"
   ]
  },
  {
   "cell_type": "code",
   "execution_count": 3,
   "id": "34b6337d",
   "metadata": {},
   "outputs": [
    {
     "data": {
      "text/html": [
       "<div>\n",
       "<style scoped>\n",
       "    .dataframe tbody tr th:only-of-type {\n",
       "        vertical-align: middle;\n",
       "    }\n",
       "\n",
       "    .dataframe tbody tr th {\n",
       "        vertical-align: top;\n",
       "    }\n",
       "\n",
       "    .dataframe thead th {\n",
       "        text-align: right;\n",
       "    }\n",
       "</style>\n",
       "<table border=\"1\" class=\"dataframe\">\n",
       "  <thead>\n",
       "    <tr style=\"text-align: right;\">\n",
       "      <th></th>\n",
       "      <th>Rank</th>\n",
       "      <th>Title</th>\n",
       "      <th>Genre</th>\n",
       "      <th>Description</th>\n",
       "      <th>Director</th>\n",
       "      <th>Actors</th>\n",
       "      <th>Year</th>\n",
       "      <th>Runtime (Minutes)</th>\n",
       "      <th>Rating</th>\n",
       "      <th>Votes</th>\n",
       "      <th>...</th>\n",
       "      <th>Music</th>\n",
       "      <th>Musical</th>\n",
       "      <th>Mystery</th>\n",
       "      <th>Romance</th>\n",
       "      <th>Sci-Fi</th>\n",
       "      <th>Sport</th>\n",
       "      <th>Thriller</th>\n",
       "      <th>War</th>\n",
       "      <th>Western</th>\n",
       "      <th>Success</th>\n",
       "    </tr>\n",
       "  </thead>\n",
       "  <tbody>\n",
       "    <tr>\n",
       "      <th>0</th>\n",
       "      <td>1.0</td>\n",
       "      <td>Guardians of the Galaxy</td>\n",
       "      <td>Action,Adventure,Sci-Fi</td>\n",
       "      <td>A group of intergalactic criminals are forced ...</td>\n",
       "      <td>James Gunn</td>\n",
       "      <td>Chris Pratt, Vin Diesel, Bradley Cooper, Zoe S...</td>\n",
       "      <td>2014.0</td>\n",
       "      <td>121.0</td>\n",
       "      <td>8.1</td>\n",
       "      <td>757074.0</td>\n",
       "      <td>...</td>\n",
       "      <td>0.0</td>\n",
       "      <td>0.0</td>\n",
       "      <td>0.0</td>\n",
       "      <td>0.0</td>\n",
       "      <td>1.0</td>\n",
       "      <td>0.0</td>\n",
       "      <td>0.0</td>\n",
       "      <td>0.0</td>\n",
       "      <td>0.0</td>\n",
       "      <td>1.0</td>\n",
       "    </tr>\n",
       "    <tr>\n",
       "      <th>1</th>\n",
       "      <td>2.0</td>\n",
       "      <td>Prometheus</td>\n",
       "      <td>Adventure,Mystery,Sci-Fi</td>\n",
       "      <td>Following clues to the origin of mankind, a te...</td>\n",
       "      <td>Ridley Scott</td>\n",
       "      <td>Noomi Rapace, Logan Marshall-Green, Michael Fa...</td>\n",
       "      <td>2012.0</td>\n",
       "      <td>124.0</td>\n",
       "      <td>7.0</td>\n",
       "      <td>485820.0</td>\n",
       "      <td>...</td>\n",
       "      <td>0.0</td>\n",
       "      <td>0.0</td>\n",
       "      <td>1.0</td>\n",
       "      <td>0.0</td>\n",
       "      <td>1.0</td>\n",
       "      <td>0.0</td>\n",
       "      <td>0.0</td>\n",
       "      <td>0.0</td>\n",
       "      <td>0.0</td>\n",
       "      <td>1.0</td>\n",
       "    </tr>\n",
       "    <tr>\n",
       "      <th>2</th>\n",
       "      <td>3.0</td>\n",
       "      <td>Split</td>\n",
       "      <td>Horror,Thriller</td>\n",
       "      <td>Three girls are kidnapped by a man with a diag...</td>\n",
       "      <td>M. Night Shyamalan</td>\n",
       "      <td>James McAvoy, Anya Taylor-Joy, Haley Lu Richar...</td>\n",
       "      <td>2016.0</td>\n",
       "      <td>117.0</td>\n",
       "      <td>7.3</td>\n",
       "      <td>157606.0</td>\n",
       "      <td>...</td>\n",
       "      <td>0.0</td>\n",
       "      <td>0.0</td>\n",
       "      <td>0.0</td>\n",
       "      <td>0.0</td>\n",
       "      <td>0.0</td>\n",
       "      <td>0.0</td>\n",
       "      <td>1.0</td>\n",
       "      <td>0.0</td>\n",
       "      <td>0.0</td>\n",
       "      <td>0.0</td>\n",
       "    </tr>\n",
       "    <tr>\n",
       "      <th>3</th>\n",
       "      <td>4.0</td>\n",
       "      <td>Sing</td>\n",
       "      <td>Animation,Comedy,Family</td>\n",
       "      <td>In a city of humanoid animals, a hustling thea...</td>\n",
       "      <td>Christophe Lourdelet</td>\n",
       "      <td>Matthew McConaughey,Reese Witherspoon, Seth Ma...</td>\n",
       "      <td>2016.0</td>\n",
       "      <td>108.0</td>\n",
       "      <td>7.2</td>\n",
       "      <td>60545.0</td>\n",
       "      <td>...</td>\n",
       "      <td>0.0</td>\n",
       "      <td>0.0</td>\n",
       "      <td>0.0</td>\n",
       "      <td>0.0</td>\n",
       "      <td>0.0</td>\n",
       "      <td>0.0</td>\n",
       "      <td>0.0</td>\n",
       "      <td>0.0</td>\n",
       "      <td>0.0</td>\n",
       "      <td>0.0</td>\n",
       "    </tr>\n",
       "    <tr>\n",
       "      <th>4</th>\n",
       "      <td>5.0</td>\n",
       "      <td>Suicide Squad</td>\n",
       "      <td>Action,Adventure,Fantasy</td>\n",
       "      <td>A secret government agency recruits some of th...</td>\n",
       "      <td>David Ayer</td>\n",
       "      <td>Will Smith, Jared Leto, Margot Robbie, Viola D...</td>\n",
       "      <td>2016.0</td>\n",
       "      <td>123.0</td>\n",
       "      <td>6.2</td>\n",
       "      <td>393727.0</td>\n",
       "      <td>...</td>\n",
       "      <td>0.0</td>\n",
       "      <td>0.0</td>\n",
       "      <td>0.0</td>\n",
       "      <td>0.0</td>\n",
       "      <td>0.0</td>\n",
       "      <td>0.0</td>\n",
       "      <td>0.0</td>\n",
       "      <td>0.0</td>\n",
       "      <td>0.0</td>\n",
       "      <td>0.0</td>\n",
       "    </tr>\n",
       "  </tbody>\n",
       "</table>\n",
       "<p>5 rows × 33 columns</p>\n",
       "</div>"
      ],
      "text/plain": [
       "   Rank                    Title                     Genre  \\\n",
       "0   1.0  Guardians of the Galaxy   Action,Adventure,Sci-Fi   \n",
       "1   2.0               Prometheus  Adventure,Mystery,Sci-Fi   \n",
       "2   3.0                    Split           Horror,Thriller   \n",
       "3   4.0                     Sing   Animation,Comedy,Family   \n",
       "4   5.0            Suicide Squad  Action,Adventure,Fantasy   \n",
       "\n",
       "                                         Description              Director  \\\n",
       "0  A group of intergalactic criminals are forced ...            James Gunn   \n",
       "1  Following clues to the origin of mankind, a te...          Ridley Scott   \n",
       "2  Three girls are kidnapped by a man with a diag...    M. Night Shyamalan   \n",
       "3  In a city of humanoid animals, a hustling thea...  Christophe Lourdelet   \n",
       "4  A secret government agency recruits some of th...            David Ayer   \n",
       "\n",
       "                                              Actors    Year  \\\n",
       "0  Chris Pratt, Vin Diesel, Bradley Cooper, Zoe S...  2014.0   \n",
       "1  Noomi Rapace, Logan Marshall-Green, Michael Fa...  2012.0   \n",
       "2  James McAvoy, Anya Taylor-Joy, Haley Lu Richar...  2016.0   \n",
       "3  Matthew McConaughey,Reese Witherspoon, Seth Ma...  2016.0   \n",
       "4  Will Smith, Jared Leto, Margot Robbie, Viola D...  2016.0   \n",
       "\n",
       "   Runtime (Minutes)  Rating     Votes  ...  Music  Musical  Mystery  Romance  \\\n",
       "0              121.0     8.1  757074.0  ...    0.0      0.0      0.0      0.0   \n",
       "1              124.0     7.0  485820.0  ...    0.0      0.0      1.0      0.0   \n",
       "2              117.0     7.3  157606.0  ...    0.0      0.0      0.0      0.0   \n",
       "3              108.0     7.2   60545.0  ...    0.0      0.0      0.0      0.0   \n",
       "4              123.0     6.2  393727.0  ...    0.0      0.0      0.0      0.0   \n",
       "\n",
       "   Sci-Fi  Sport  Thriller  War  Western  Success  \n",
       "0     1.0    0.0       0.0  0.0      0.0      1.0  \n",
       "1     1.0    0.0       0.0  0.0      0.0      1.0  \n",
       "2     0.0    0.0       1.0  0.0      0.0      0.0  \n",
       "3     0.0    0.0       0.0  0.0      0.0      0.0  \n",
       "4     0.0    0.0       0.0  0.0      0.0      0.0  \n",
       "\n",
       "[5 rows x 33 columns]"
      ]
     },
     "execution_count": 3,
     "metadata": {},
     "output_type": "execute_result"
    }
   ],
   "source": [
    "df.head()"
   ]
  },
  {
   "cell_type": "code",
   "execution_count": 4,
   "id": "e420ade2",
   "metadata": {},
   "outputs": [
    {
     "data": {
      "text/html": [
       "<div>\n",
       "<style scoped>\n",
       "    .dataframe tbody tr th:only-of-type {\n",
       "        vertical-align: middle;\n",
       "    }\n",
       "\n",
       "    .dataframe tbody tr th {\n",
       "        vertical-align: top;\n",
       "    }\n",
       "\n",
       "    .dataframe thead th {\n",
       "        text-align: right;\n",
       "    }\n",
       "</style>\n",
       "<table border=\"1\" class=\"dataframe\">\n",
       "  <thead>\n",
       "    <tr style=\"text-align: right;\">\n",
       "      <th></th>\n",
       "      <th>Rank</th>\n",
       "      <th>Title</th>\n",
       "      <th>Genre</th>\n",
       "      <th>Description</th>\n",
       "      <th>Director</th>\n",
       "      <th>Actors</th>\n",
       "      <th>Year</th>\n",
       "      <th>Runtime (Minutes)</th>\n",
       "      <th>Rating</th>\n",
       "      <th>Votes</th>\n",
       "      <th>...</th>\n",
       "      <th>Music</th>\n",
       "      <th>Musical</th>\n",
       "      <th>Mystery</th>\n",
       "      <th>Romance</th>\n",
       "      <th>Sci-Fi</th>\n",
       "      <th>Sport</th>\n",
       "      <th>Thriller</th>\n",
       "      <th>War</th>\n",
       "      <th>Western</th>\n",
       "      <th>Success</th>\n",
       "    </tr>\n",
       "  </thead>\n",
       "  <tbody>\n",
       "    <tr>\n",
       "      <th>834</th>\n",
       "      <td>995.0</td>\n",
       "      <td>Project X</td>\n",
       "      <td>Comedy</td>\n",
       "      <td>3 high school seniors throw a birthday party t...</td>\n",
       "      <td>Nima Nourizadeh</td>\n",
       "      <td>Thomas Mann, Oliver Cooper, Jonathan Daniel Br...</td>\n",
       "      <td>2012.0</td>\n",
       "      <td>88.0</td>\n",
       "      <td>6.70000</td>\n",
       "      <td>164088.0000</td>\n",
       "      <td>...</td>\n",
       "      <td>0.0</td>\n",
       "      <td>0.0</td>\n",
       "      <td>0.0</td>\n",
       "      <td>0.0</td>\n",
       "      <td>0.0</td>\n",
       "      <td>0.0</td>\n",
       "      <td>0.0</td>\n",
       "      <td>0.0</td>\n",
       "      <td>0.0</td>\n",
       "      <td>0.0</td>\n",
       "    </tr>\n",
       "    <tr>\n",
       "      <th>835</th>\n",
       "      <td>997.0</td>\n",
       "      <td>Hostel: Part II</td>\n",
       "      <td>Horror</td>\n",
       "      <td>Three American college students studying abroa...</td>\n",
       "      <td>Eli Roth</td>\n",
       "      <td>Lauren German, Heather Matarazzo, Bijou Philli...</td>\n",
       "      <td>2007.0</td>\n",
       "      <td>94.0</td>\n",
       "      <td>5.50000</td>\n",
       "      <td>73152.0000</td>\n",
       "      <td>...</td>\n",
       "      <td>0.0</td>\n",
       "      <td>0.0</td>\n",
       "      <td>0.0</td>\n",
       "      <td>0.0</td>\n",
       "      <td>0.0</td>\n",
       "      <td>0.0</td>\n",
       "      <td>0.0</td>\n",
       "      <td>0.0</td>\n",
       "      <td>0.0</td>\n",
       "      <td>0.0</td>\n",
       "    </tr>\n",
       "    <tr>\n",
       "      <th>836</th>\n",
       "      <td>998.0</td>\n",
       "      <td>Step Up 2: The Streets</td>\n",
       "      <td>Drama,Music,Romance</td>\n",
       "      <td>Romantic sparks occur between two dance studen...</td>\n",
       "      <td>Jon M. Chu</td>\n",
       "      <td>Robert Hoffman, Briana Evigan, Cassie Ventura,...</td>\n",
       "      <td>2008.0</td>\n",
       "      <td>98.0</td>\n",
       "      <td>6.20000</td>\n",
       "      <td>70699.0000</td>\n",
       "      <td>...</td>\n",
       "      <td>1.0</td>\n",
       "      <td>0.0</td>\n",
       "      <td>0.0</td>\n",
       "      <td>1.0</td>\n",
       "      <td>0.0</td>\n",
       "      <td>0.0</td>\n",
       "      <td>0.0</td>\n",
       "      <td>0.0</td>\n",
       "      <td>0.0</td>\n",
       "      <td>0.0</td>\n",
       "    </tr>\n",
       "    <tr>\n",
       "      <th>837</th>\n",
       "      <td>1000.0</td>\n",
       "      <td>Nine Lives</td>\n",
       "      <td>Comedy,Family,Fantasy</td>\n",
       "      <td>A stuffy businessman finds himself trapped ins...</td>\n",
       "      <td>Barry Sonnenfeld</td>\n",
       "      <td>Kevin Spacey, Jennifer Garner, Robbie Amell,Ch...</td>\n",
       "      <td>2016.0</td>\n",
       "      <td>87.0</td>\n",
       "      <td>5.30000</td>\n",
       "      <td>12435.0000</td>\n",
       "      <td>...</td>\n",
       "      <td>0.0</td>\n",
       "      <td>0.0</td>\n",
       "      <td>0.0</td>\n",
       "      <td>0.0</td>\n",
       "      <td>0.0</td>\n",
       "      <td>0.0</td>\n",
       "      <td>0.0</td>\n",
       "      <td>0.0</td>\n",
       "      <td>0.0</td>\n",
       "      <td>0.0</td>\n",
       "    </tr>\n",
       "    <tr>\n",
       "      <th>838</th>\n",
       "      <td>NaN</td>\n",
       "      <td>NaN</td>\n",
       "      <td>NaN</td>\n",
       "      <td>NaN</td>\n",
       "      <td>NaN</td>\n",
       "      <td>NaN</td>\n",
       "      <td>NaN</td>\n",
       "      <td>NaN</td>\n",
       "      <td>6.81432</td>\n",
       "      <td>193230.2518</td>\n",
       "      <td>...</td>\n",
       "      <td>NaN</td>\n",
       "      <td>NaN</td>\n",
       "      <td>NaN</td>\n",
       "      <td>NaN</td>\n",
       "      <td>NaN</td>\n",
       "      <td>NaN</td>\n",
       "      <td>NaN</td>\n",
       "      <td>NaN</td>\n",
       "      <td>NaN</td>\n",
       "      <td>NaN</td>\n",
       "    </tr>\n",
       "  </tbody>\n",
       "</table>\n",
       "<p>5 rows × 33 columns</p>\n",
       "</div>"
      ],
      "text/plain": [
       "       Rank                   Title                  Genre  \\\n",
       "834   995.0               Project X                 Comedy   \n",
       "835   997.0         Hostel: Part II                 Horror   \n",
       "836   998.0  Step Up 2: The Streets    Drama,Music,Romance   \n",
       "837  1000.0              Nine Lives  Comedy,Family,Fantasy   \n",
       "838     NaN                     NaN                    NaN   \n",
       "\n",
       "                                           Description          Director  \\\n",
       "834  3 high school seniors throw a birthday party t...   Nima Nourizadeh   \n",
       "835  Three American college students studying abroa...          Eli Roth   \n",
       "836  Romantic sparks occur between two dance studen...        Jon M. Chu   \n",
       "837  A stuffy businessman finds himself trapped ins...  Barry Sonnenfeld   \n",
       "838                                                NaN               NaN   \n",
       "\n",
       "                                                Actors    Year  \\\n",
       "834  Thomas Mann, Oliver Cooper, Jonathan Daniel Br...  2012.0   \n",
       "835  Lauren German, Heather Matarazzo, Bijou Philli...  2007.0   \n",
       "836  Robert Hoffman, Briana Evigan, Cassie Ventura,...  2008.0   \n",
       "837  Kevin Spacey, Jennifer Garner, Robbie Amell,Ch...  2016.0   \n",
       "838                                                NaN     NaN   \n",
       "\n",
       "     Runtime (Minutes)   Rating        Votes  ...  Music  Musical  Mystery  \\\n",
       "834               88.0  6.70000  164088.0000  ...    0.0      0.0      0.0   \n",
       "835               94.0  5.50000   73152.0000  ...    0.0      0.0      0.0   \n",
       "836               98.0  6.20000   70699.0000  ...    1.0      0.0      0.0   \n",
       "837               87.0  5.30000   12435.0000  ...    0.0      0.0      0.0   \n",
       "838                NaN  6.81432  193230.2518  ...    NaN      NaN      NaN   \n",
       "\n",
       "     Romance  Sci-Fi  Sport  Thriller  War  Western  Success  \n",
       "834      0.0     0.0    0.0       0.0  0.0      0.0      0.0  \n",
       "835      0.0     0.0    0.0       0.0  0.0      0.0      0.0  \n",
       "836      1.0     0.0    0.0       0.0  0.0      0.0      0.0  \n",
       "837      0.0     0.0    0.0       0.0  0.0      0.0      0.0  \n",
       "838      NaN     NaN    NaN       NaN  NaN      NaN      NaN  \n",
       "\n",
       "[5 rows x 33 columns]"
      ]
     },
     "execution_count": 4,
     "metadata": {},
     "output_type": "execute_result"
    }
   ],
   "source": [
    "df.tail()"
   ]
  },
  {
   "cell_type": "code",
   "execution_count": 5,
   "id": "f795d598",
   "metadata": {},
   "outputs": [
    {
     "data": {
      "text/plain": [
       "(839, 33)"
      ]
     },
     "execution_count": 5,
     "metadata": {},
     "output_type": "execute_result"
    }
   ],
   "source": [
    "df.shape"
   ]
  },
  {
   "cell_type": "code",
   "execution_count": 6,
   "id": "171fa810",
   "metadata": {},
   "outputs": [
    {
     "data": {
      "text/plain": [
       "Index(['Rank', 'Title', 'Genre', 'Description', 'Director', 'Actors', 'Year',\n",
       "       'Runtime (Minutes)', 'Rating', 'Votes', 'Revenue (Millions)',\n",
       "       'Metascore', 'Action', 'Adventure', 'Aniimation', 'Biography', 'Comedy',\n",
       "       'Crime', 'Drama', 'Family', 'Fantasy', 'History', 'Horror', 'Music',\n",
       "       'Musical', 'Mystery', 'Romance', 'Sci-Fi', 'Sport', 'Thriller', 'War',\n",
       "       'Western', 'Success'],\n",
       "      dtype='object')"
      ]
     },
     "execution_count": 6,
     "metadata": {},
     "output_type": "execute_result"
    }
   ],
   "source": [
    "df.columns"
   ]
  },
  {
   "cell_type": "code",
   "execution_count": 7,
   "id": "d45684c4",
   "metadata": {},
   "outputs": [
    {
     "name": "stdout",
     "output_type": "stream",
     "text": [
      "<class 'pandas.core.frame.DataFrame'>\n",
      "RangeIndex: 839 entries, 0 to 838\n",
      "Data columns (total 33 columns):\n",
      " #   Column              Non-Null Count  Dtype  \n",
      "---  ------              --------------  -----  \n",
      " 0   Rank                838 non-null    float64\n",
      " 1   Title               838 non-null    object \n",
      " 2   Genre               838 non-null    object \n",
      " 3   Description         838 non-null    object \n",
      " 4   Director            838 non-null    object \n",
      " 5   Actors              838 non-null    object \n",
      " 6   Year                838 non-null    float64\n",
      " 7   Runtime (Minutes)   838 non-null    float64\n",
      " 8   Rating              839 non-null    float64\n",
      " 9   Votes               839 non-null    float64\n",
      " 10  Revenue (Millions)  839 non-null    float64\n",
      " 11  Metascore           838 non-null    float64\n",
      " 12  Action              838 non-null    float64\n",
      " 13  Adventure           838 non-null    float64\n",
      " 14  Aniimation          838 non-null    float64\n",
      " 15  Biography           838 non-null    float64\n",
      " 16  Comedy              838 non-null    float64\n",
      " 17  Crime               838 non-null    float64\n",
      " 18  Drama               838 non-null    float64\n",
      " 19  Family              838 non-null    float64\n",
      " 20  Fantasy             838 non-null    float64\n",
      " 21  History             838 non-null    float64\n",
      " 22  Horror              838 non-null    float64\n",
      " 23  Music               838 non-null    float64\n",
      " 24  Musical             838 non-null    float64\n",
      " 25  Mystery             838 non-null    float64\n",
      " 26  Romance             838 non-null    float64\n",
      " 27  Sci-Fi              838 non-null    float64\n",
      " 28  Sport               838 non-null    float64\n",
      " 29  Thriller            838 non-null    float64\n",
      " 30  War                 838 non-null    float64\n",
      " 31  Western             838 non-null    float64\n",
      " 32  Success             838 non-null    float64\n",
      "dtypes: float64(28), object(5)\n",
      "memory usage: 216.4+ KB\n"
     ]
    }
   ],
   "source": [
    "df.info()"
   ]
  },
  {
   "cell_type": "code",
   "execution_count": 8,
   "id": "0d97d56e",
   "metadata": {},
   "outputs": [
    {
     "data": {
      "text/plain": [
       "Rank                  1\n",
       "Title                 1\n",
       "Genre                 1\n",
       "Description           1\n",
       "Director              1\n",
       "Actors                1\n",
       "Year                  1\n",
       "Runtime (Minutes)     1\n",
       "Rating                0\n",
       "Votes                 0\n",
       "Revenue (Millions)    0\n",
       "Metascore             1\n",
       "Action                1\n",
       "Adventure             1\n",
       "Aniimation            1\n",
       "Biography             1\n",
       "Comedy                1\n",
       "Crime                 1\n",
       "Drama                 1\n",
       "Family                1\n",
       "Fantasy               1\n",
       "History               1\n",
       "Horror                1\n",
       "Music                 1\n",
       "Musical               1\n",
       "Mystery               1\n",
       "Romance               1\n",
       "Sci-Fi                1\n",
       "Sport                 1\n",
       "Thriller              1\n",
       "War                   1\n",
       "Western               1\n",
       "Success               1\n",
       "dtype: int64"
      ]
     },
     "execution_count": 8,
     "metadata": {},
     "output_type": "execute_result"
    }
   ],
   "source": [
    "df.isnull().sum()"
   ]
  },
  {
   "cell_type": "code",
   "execution_count": 9,
   "id": "4527ccb1",
   "metadata": {},
   "outputs": [
    {
     "data": {
      "text/plain": [
       "Action,Adventure,Sci-Fi    50\n",
       "Comedy,Drama,Romance       30\n",
       "Drama                      29\n",
       "Drama,Romance              27\n",
       "Comedy                     26\n",
       "                           ..\n",
       "Adventure,Drama,History     1\n",
       "Action,Crime,Fantasy        1\n",
       "Comedy,Mystery              1\n",
       "Adventure,Comedy,Horror     1\n",
       "Comedy,Family,Fantasy       1\n",
       "Name: Genre, Length: 189, dtype: int64"
      ]
     },
     "execution_count": 9,
     "metadata": {},
     "output_type": "execute_result"
    }
   ],
   "source": [
    "# Genre counts\n",
    "df['Genre'].value_counts()"
   ]
  },
  {
   "cell_type": "code",
   "execution_count": 10,
   "id": "50595c46",
   "metadata": {},
   "outputs": [
    {
     "data": {
      "text/plain": [
       "Ridley Scott          8\n",
       "Paul W.S. Anderson    6\n",
       "David Yates           6\n",
       "Michael Bay           6\n",
       "Antoine Fuqua         5\n",
       "                     ..\n",
       "Kyle Balda            1\n",
       "Chris Renaud          1\n",
       "Peter Billingsley     1\n",
       "Lee Toland Krieger    1\n",
       "Nima Nourizadeh       1\n",
       "Name: Director, Length: 524, dtype: int64"
      ]
     },
     "execution_count": 10,
     "metadata": {},
     "output_type": "execute_result"
    }
   ],
   "source": [
    "# Directors\n",
    "df['Director'].value_counts()"
   ]
  },
  {
   "cell_type": "code",
   "execution_count": 11,
   "id": "9f85b0cf",
   "metadata": {},
   "outputs": [
    {
     "data": {
      "text/plain": [
       "Jennifer Lawrence, Josh Hutcherson, Liam Hemsworth, Woody Harrelson    2\n",
       "Daniel Radcliffe, Emma Watson, Rupert Grint, Michael Gambon            2\n",
       "Shia LaBeouf, Megan Fox, Josh Duhamel, Tyrese Gibson                   2\n",
       "Gerard Butler, Aaron Eckhart, Morgan Freeman,Angela Bassett            2\n",
       "Chris Pratt, Vin Diesel, Bradley Cooper, Zoe Saldana                   1\n",
       "                                                                      ..\n",
       "Chris Evans, Jamie Bell, Tilda Swinton, Ed Harris                      1\n",
       "Chloë Grace Moretz, Matthew Zuk, Gabriela Lopez,Bailey Anne Borders    1\n",
       "Olivia DeJonge, Ed Oxenbould, Deanna Dunagan, Peter McRobbie           1\n",
       "Vin Diesel, Paul Walker, Dwayne Johnson, Jordana Brewster              1\n",
       "Kevin Spacey, Jennifer Garner, Robbie Amell,Cheryl Hines               1\n",
       "Name: Actors, Length: 834, dtype: int64"
      ]
     },
     "execution_count": 11,
     "metadata": {},
     "output_type": "execute_result"
    }
   ],
   "source": [
    "# Actors\n",
    "df['Actors'].value_counts()"
   ]
  },
  {
   "cell_type": "markdown",
   "id": "e7b53f5a",
   "metadata": {},
   "source": [
    "# Data Visualizing"
   ]
  },
  {
   "cell_type": "code",
   "execution_count": 12,
   "id": "d149305b",
   "metadata": {},
   "outputs": [
    {
     "data": {
      "text/plain": [
       "<AxesSubplot:>"
      ]
     },
     "execution_count": 12,
     "metadata": {},
     "output_type": "execute_result"
    },
    {
     "data": {
      "image/png": "[encoded data removed]",
      "text/plain": [
       "<Figure size 640x480 with 2 Axes>"
      ]
     },
     "metadata": {},
     "output_type": "display_data"
    }
   ],
   "source": [
    "sns.heatmap(df.isnull())"
   ]
  },
  {
   "cell_type": "code",
   "execution_count": 13,
   "id": "41c89cb1",
   "metadata": {},
   "outputs": [
    {
     "name": "stderr",
     "output_type": "stream",
     "text": [
      "C:\\Users\\nwahi\\AppData\\Local\\Temp\\ipykernel_3588\\3493596106.py:1: FutureWarning: Dropping of nuisance columns in DataFrame reductions (with 'numeric_only=None') is deprecated; in a future version this will raise TypeError.  Select only valid columns before calling the reduction.\n",
      "  df = df.fillna(df.median())\n"
     ]
    }
   ],
   "source": [
    "df = df.fillna(df.median())"
   ]
  },
  {
   "cell_type": "code",
   "execution_count": 14,
   "id": "79a6ab40",
   "metadata": {},
   "outputs": [
    {
     "data": {
      "text/plain": [
       "Index(['Rank', 'Title', 'Genre', 'Description', 'Director', 'Actors', 'Year',\n",
       "       'Runtime (Minutes)', 'Rating', 'Votes', 'Revenue (Millions)',\n",
       "       'Metascore', 'Action', 'Adventure', 'Aniimation', 'Biography', 'Comedy',\n",
       "       'Crime', 'Drama', 'Family', 'Fantasy', 'History', 'Horror', 'Music',\n",
       "       'Musical', 'Mystery', 'Romance', 'Sci-Fi', 'Sport', 'Thriller', 'War',\n",
       "       'Western', 'Success'],\n",
       "      dtype='object')"
      ]
     },
     "execution_count": 14,
     "metadata": {},
     "output_type": "execute_result"
    }
   ],
   "source": [
    "df.columns"
   ]
  },
  {
   "cell_type": "code",
   "execution_count": 15,
   "id": "34ace43e",
   "metadata": {},
   "outputs": [],
   "source": [
    "x = df[['Year',\n",
    "       'Runtime (Minutes)', 'Rating', 'Votes', 'Revenue (Millions)',\n",
    "       'Metascore', 'Action', 'Adventure', 'Aniimation', 'Biography', 'Comedy',\n",
    "       'Crime', 'Drama', 'Family', 'Fantasy', 'History', 'Horror', 'Music',\n",
    "       'Musical', 'Mystery', 'Romance', 'Sci-Fi', 'Sport', 'Thriller', 'War',\n",
    "       'Western']]\n",
    "y = df['Success']"
   ]
  },
  {
   "cell_type": "code",
   "execution_count": 16,
   "id": "3cbb9210",
   "metadata": {},
   "outputs": [],
   "source": [
    "x_train,x_test,y_train,y_test= train_test_split(x,y,test_size=0.1,stratify=y)"
   ]
  },
  {
   "cell_type": "code",
   "execution_count": 17,
   "id": "0cb47a4b",
   "metadata": {},
   "outputs": [
    {
     "data": {
      "text/plain": [
       "LogisticRegression()"
      ]
     },
     "execution_count": 17,
     "metadata": {},
     "output_type": "execute_result"
    }
   ],
   "source": [
    "log = LogisticRegression()\n",
    "log.fit(x_train,y_train)"
   ]
  },
  {
   "cell_type": "code",
   "execution_count": 18,
   "id": "55d1c175",
   "metadata": {},
   "outputs": [
    {
     "name": "stdout",
     "output_type": "stream",
     "text": [
      "Precision: 0.7857142857142857\n",
      "Recall: 0.7333333333333333\n",
      "F1 Score: 0.7586206896551724\n",
      "[0. 0. 0. 0. 0. 0. 0. 1. 0. 0. 0. 0. 1. 0. 0. 0. 0. 1. 0. 0. 1. 1. 0. 1.\n",
      " 0. 0. 0. 0. 1. 0. 0. 0. 1. 0. 0. 0. 0. 0. 0. 0. 1. 0. 0. 0. 0. 1. 0. 0.\n",
      " 0. 0. 0. 0. 0. 0. 0. 1. 0. 0. 0. 0. 0. 1. 0. 0. 0. 0. 0. 1. 0. 0. 0. 0.\n",
      " 1. 0. 0. 0. 0. 0. 0. 0. 0. 0. 0. 0.]\n"
     ]
    }
   ],
   "source": [
    "y_pred = log.predict(x_test)\n",
    "\n",
    "# Calculate Precision, Recall, and F1 Score\n",
    "precision = precision_score(y_test, y_pred, average='binary')\n",
    "recall = recall_score(y_test, y_pred, average='binary')\n",
    "f1 = f1_score(y_test, y_pred, average='binary')\n",
    "\n",
    "print(f\"Precision: {precision}\")\n",
    "print(f\"Recall: {recall}\")\n",
    "print(f\"F1 Score: {f1}\")\n",
    "print(y_pred)"
   ]
  },
  {
   "cell_type": "code",
   "execution_count": 19,
   "id": "45943fa8",
   "metadata": {},
   "outputs": [],
   "source": [
    "clf = confusion_matrix(y_test,log.predict(x_test))"
   ]
  },
  {
   "cell_type": "code",
   "execution_count": 20,
   "id": "88f12065",
   "metadata": {},
   "outputs": [
    {
     "data": {
      "text/plain": [
       "<AxesSubplot:>"
      ]
     },
     "execution_count": 20,
     "metadata": {},
     "output_type": "execute_result"
    },
    {
     "data": {
      "image/png": "[encoded data removed]",
      "text/plain": [
       "<Figure size 640x480 with 2 Axes>"
      ]
     },
     "metadata": {},
     "output_type": "display_data"
    }
   ],
   "source": [
    "sns.heatmap(clf,annot=True)"
   ]
  },
  {
   "cell_type": "code",
   "execution_count": 21,
   "id": "32740d2e",
   "metadata": {},
   "outputs": [],
   "source": [
    "x_train_opt = x_train.copy()\n",
    "x_test_opt = x_test.copy()"
   ]
  },
  {
   "cell_type": "code",
   "execution_count": 22,
   "id": "5ff541c0",
   "metadata": {},
   "outputs": [
    {
     "data": {
      "text/plain": [
       "KNeighborsClassifier(n_neighbors=40)"
      ]
     },
     "execution_count": 22,
     "metadata": {},
     "output_type": "execute_result"
    }
   ],
   "source": [
    "kn = KNeighborsClassifier(n_neighbors=40)\n",
    "kn.fit(x_train,y_train)"
   ]
  },
  {
   "cell_type": "code",
   "execution_count": 23,
   "id": "336865ca",
   "metadata": {},
   "outputs": [
    {
     "name": "stderr",
     "output_type": "stream",
     "text": [
      "C:\\Users\\nwahi\\anaconda3\\lib\\site-packages\\sklearn\\neighbors\\_classification.py:228: FutureWarning: Unlike other reduction functions (e.g. `skew`, `kurtosis`), the default behavior of `mode` typically preserves the axis it acts along. In SciPy 1.11.0, this behavior will change: the default value of `keepdims` will become False, the `axis` over which the statistic is taken will be eliminated, and the value None will no longer be accepted. Set `keepdims` to True or False to avoid this warning.\n",
      "  mode, _ = stats.mode(_y[neigh_ind, k], axis=1)\n"
     ]
    },
    {
     "data": {
      "text/plain": [
       "0.8809523809523809"
      ]
     },
     "execution_count": 23,
     "metadata": {},
     "output_type": "execute_result"
    }
   ],
   "source": [
    "kn.score(x_test,y_test)"
   ]
  },
  {
   "cell_type": "code",
   "execution_count": 24,
   "id": "0e59d8dc",
   "metadata": {},
   "outputs": [
    {
     "name": "stdout",
     "output_type": "stream",
     "text": [
      "Precision: 0.7777777777777778\n",
      "Recall: 0.4666666666666667\n",
      "F1 Score: 0.5833333333333334\n"
     ]
    },
    {
     "name": "stderr",
     "output_type": "stream",
     "text": [
      "C:\\Users\\nwahi\\anaconda3\\lib\\site-packages\\sklearn\\neighbors\\_classification.py:228: FutureWarning: Unlike other reduction functions (e.g. `skew`, `kurtosis`), the default behavior of `mode` typically preserves the axis it acts along. In SciPy 1.11.0, this behavior will change: the default value of `keepdims` will become False, the `axis` over which the statistic is taken will be eliminated, and the value None will no longer be accepted. Set `keepdims` to True or False to avoid this warning.\n",
      "  mode, _ = stats.mode(_y[neigh_ind, k], axis=1)\n"
     ]
    }
   ],
   "source": [
    "y_pred_kn = kn.predict(x_test)\n",
    "\n",
    "# Calculate Precision, Recall, and F1 Score\n",
    "precision = precision_score(y_test, y_pred_kn, average='binary')  # Change 'binary' to 'macro' or 'micro' if multi-class\n",
    "recall = recall_score(y_test, y_pred_kn, average='binary')\n",
    "f1 = f1_score(y_test, y_pred_kn, average='binary')\n",
    "\n",
    "print(f\"Precision: {precision}\")\n",
    "print(f\"Recall: {recall}\")\n",
    "print(f\"F1 Score: {f1}\")"
   ]
  },
  {
   "cell_type": "code",
   "execution_count": 25,
   "id": "95dd0a98",
   "metadata": {},
   "outputs": [
    {
     "data": {
      "text/plain": [
       "1.0"
      ]
     },
     "execution_count": 25,
     "metadata": {},
     "output_type": "execute_result"
    }
   ],
   "source": [
    "tree = DecisionTreeClassifier()\n",
    "tree.fit(x_train,y_train)\n",
    "tree.score(x_test,y_test)"
   ]
  },
  {
   "cell_type": "code",
   "execution_count": 26,
   "id": "1fab2d2e",
   "metadata": {},
   "outputs": [
    {
     "data": {
      "text/plain": [
       "1.0"
      ]
     },
     "execution_count": 26,
     "metadata": {},
     "output_type": "execute_result"
    }
   ],
   "source": [
    "tree.score(x_train,y_train)"
   ]
  },
  {
   "cell_type": "code",
   "execution_count": 27,
   "id": "c7ffebc3",
   "metadata": {},
   "outputs": [
    {
     "name": "stdout",
     "output_type": "stream",
     "text": [
      "Precision: 0.7857142857142857\n",
      "Recall: 0.7333333333333333\n",
      "F1 Score: 0.7586206896551724\n"
     ]
    }
   ],
   "source": [
    "y_pred_tree = log.predict(x_test)\n",
    "\n",
    "# Calculate Precision, Recall, and F1 Score\n",
    "precision = precision_score(y_test, y_pred_tree, average='binary')  # Change 'binary' to 'macro' or 'micro' if multi-class\n",
    "recall = recall_score(y_test, y_pred_tree, average='binary')\n",
    "f1 = f1_score(y_test, y_pred_tree, average='binary')\n",
    "\n",
    "print(f\"Precision: {precision}\")\n",
    "print(f\"Recall: {recall}\")\n",
    "print(f\"F1 Score: {f1}\")"
   ]
  },
  {
   "cell_type": "code",
   "execution_count": 28,
   "id": "6c8007b6",
   "metadata": {},
   "outputs": [],
   "source": [
    "clf = confusion_matrix(y_test,tree.predict(x_test))"
   ]
  },
  {
   "cell_type": "code",
   "execution_count": 29,
   "id": "b50c8e0c",
   "metadata": {},
   "outputs": [
    {
     "data": {
      "text/plain": [
       "array([[69,  0],\n",
       "       [ 0, 15]], dtype=int64)"
      ]
     },
     "execution_count": 29,
     "metadata": {},
     "output_type": "execute_result"
    }
   ],
   "source": [
    "clf"
   ]
  },
  {
   "cell_type": "code",
   "execution_count": 30,
   "id": "b7b28ed3",
   "metadata": {},
   "outputs": [
    {
     "data": {
      "text/plain": [
       "<AxesSubplot:>"
      ]
     },
     "execution_count": 30,
     "metadata": {},
     "output_type": "execute_result"
    },
    {
     "data": {
      "image/png": "[encoded data removed]",
      "text/plain": [
       "<Figure size 640x480 with 2 Axes>"
      ]
     },
     "metadata": {},
     "output_type": "display_data"
    }
   ],
   "source": [
    "sns.heatmap(clf,annot=True)"
   ]
  },
  {
   "cell_type": "code",
   "execution_count": 31,
   "id": "117e4fb4",
   "metadata": {},
   "outputs": [
    {
     "data": {
      "text/html": [
       "<div>\n",
       "<style scoped>\n",
       "    .dataframe tbody tr th:only-of-type {\n",
       "        vertical-align: middle;\n",
       "    }\n",
       "\n",
       "    .dataframe tbody tr th {\n",
       "        vertical-align: top;\n",
       "    }\n",
       "\n",
       "    .dataframe thead th {\n",
       "        text-align: right;\n",
       "    }\n",
       "</style>\n",
       "<table border=\"1\" class=\"dataframe\">\n",
       "  <thead>\n",
       "    <tr style=\"text-align: right;\">\n",
       "      <th></th>\n",
       "      <th>Year</th>\n",
       "      <th>Runtime (Minutes)</th>\n",
       "      <th>Rating</th>\n",
       "      <th>Votes</th>\n",
       "      <th>Revenue (Millions)</th>\n",
       "      <th>Metascore</th>\n",
       "      <th>Action</th>\n",
       "      <th>Adventure</th>\n",
       "      <th>Aniimation</th>\n",
       "      <th>Biography</th>\n",
       "      <th>...</th>\n",
       "      <th>Horror</th>\n",
       "      <th>Music</th>\n",
       "      <th>Musical</th>\n",
       "      <th>Mystery</th>\n",
       "      <th>Romance</th>\n",
       "      <th>Sci-Fi</th>\n",
       "      <th>Sport</th>\n",
       "      <th>Thriller</th>\n",
       "      <th>War</th>\n",
       "      <th>Western</th>\n",
       "    </tr>\n",
       "  </thead>\n",
       "  <tbody>\n",
       "    <tr>\n",
       "      <th>0</th>\n",
       "      <td>2014.0</td>\n",
       "      <td>121.0</td>\n",
       "      <td>8.10000</td>\n",
       "      <td>757074.0000</td>\n",
       "      <td>333.130000</td>\n",
       "      <td>76.0</td>\n",
       "      <td>1.0</td>\n",
       "      <td>1.0</td>\n",
       "      <td>0.0</td>\n",
       "      <td>0.0</td>\n",
       "      <td>...</td>\n",
       "      <td>0.0</td>\n",
       "      <td>0.0</td>\n",
       "      <td>0.0</td>\n",
       "      <td>0.0</td>\n",
       "      <td>0.0</td>\n",
       "      <td>1.0</td>\n",
       "      <td>0.0</td>\n",
       "      <td>0.0</td>\n",
       "      <td>0.0</td>\n",
       "      <td>0.0</td>\n",
       "    </tr>\n",
       "    <tr>\n",
       "      <th>1</th>\n",
       "      <td>2012.0</td>\n",
       "      <td>124.0</td>\n",
       "      <td>7.00000</td>\n",
       "      <td>485820.0000</td>\n",
       "      <td>126.460000</td>\n",
       "      <td>65.0</td>\n",
       "      <td>0.0</td>\n",
       "      <td>1.0</td>\n",
       "      <td>0.0</td>\n",
       "      <td>0.0</td>\n",
       "      <td>...</td>\n",
       "      <td>0.0</td>\n",
       "      <td>0.0</td>\n",
       "      <td>0.0</td>\n",
       "      <td>1.0</td>\n",
       "      <td>0.0</td>\n",
       "      <td>1.0</td>\n",
       "      <td>0.0</td>\n",
       "      <td>0.0</td>\n",
       "      <td>0.0</td>\n",
       "      <td>0.0</td>\n",
       "    </tr>\n",
       "    <tr>\n",
       "      <th>2</th>\n",
       "      <td>2016.0</td>\n",
       "      <td>117.0</td>\n",
       "      <td>7.30000</td>\n",
       "      <td>157606.0000</td>\n",
       "      <td>138.120000</td>\n",
       "      <td>62.0</td>\n",
       "      <td>0.0</td>\n",
       "      <td>0.0</td>\n",
       "      <td>0.0</td>\n",
       "      <td>0.0</td>\n",
       "      <td>...</td>\n",
       "      <td>1.0</td>\n",
       "      <td>0.0</td>\n",
       "      <td>0.0</td>\n",
       "      <td>0.0</td>\n",
       "      <td>0.0</td>\n",
       "      <td>0.0</td>\n",
       "      <td>0.0</td>\n",
       "      <td>1.0</td>\n",
       "      <td>0.0</td>\n",
       "      <td>0.0</td>\n",
       "    </tr>\n",
       "    <tr>\n",
       "      <th>3</th>\n",
       "      <td>2016.0</td>\n",
       "      <td>108.0</td>\n",
       "      <td>7.20000</td>\n",
       "      <td>60545.0000</td>\n",
       "      <td>270.320000</td>\n",
       "      <td>59.0</td>\n",
       "      <td>0.0</td>\n",
       "      <td>0.0</td>\n",
       "      <td>1.0</td>\n",
       "      <td>0.0</td>\n",
       "      <td>...</td>\n",
       "      <td>0.0</td>\n",
       "      <td>0.0</td>\n",
       "      <td>0.0</td>\n",
       "      <td>0.0</td>\n",
       "      <td>0.0</td>\n",
       "      <td>0.0</td>\n",
       "      <td>0.0</td>\n",
       "      <td>0.0</td>\n",
       "      <td>0.0</td>\n",
       "      <td>0.0</td>\n",
       "    </tr>\n",
       "    <tr>\n",
       "      <th>4</th>\n",
       "      <td>2016.0</td>\n",
       "      <td>123.0</td>\n",
       "      <td>6.20000</td>\n",
       "      <td>393727.0000</td>\n",
       "      <td>325.020000</td>\n",
       "      <td>40.0</td>\n",
       "      <td>1.0</td>\n",
       "      <td>1.0</td>\n",
       "      <td>0.0</td>\n",
       "      <td>0.0</td>\n",
       "      <td>...</td>\n",
       "      <td>0.0</td>\n",
       "      <td>0.0</td>\n",
       "      <td>0.0</td>\n",
       "      <td>0.0</td>\n",
       "      <td>0.0</td>\n",
       "      <td>0.0</td>\n",
       "      <td>0.0</td>\n",
       "      <td>0.0</td>\n",
       "      <td>0.0</td>\n",
       "      <td>0.0</td>\n",
       "    </tr>\n",
       "    <tr>\n",
       "      <th>...</th>\n",
       "      <td>...</td>\n",
       "      <td>...</td>\n",
       "      <td>...</td>\n",
       "      <td>...</td>\n",
       "      <td>...</td>\n",
       "      <td>...</td>\n",
       "      <td>...</td>\n",
       "      <td>...</td>\n",
       "      <td>...</td>\n",
       "      <td>...</td>\n",
       "      <td>...</td>\n",
       "      <td>...</td>\n",
       "      <td>...</td>\n",
       "      <td>...</td>\n",
       "      <td>...</td>\n",
       "      <td>...</td>\n",
       "      <td>...</td>\n",
       "      <td>...</td>\n",
       "      <td>...</td>\n",
       "      <td>...</td>\n",
       "      <td>...</td>\n",
       "    </tr>\n",
       "    <tr>\n",
       "      <th>834</th>\n",
       "      <td>2012.0</td>\n",
       "      <td>88.0</td>\n",
       "      <td>6.70000</td>\n",
       "      <td>164088.0000</td>\n",
       "      <td>54.720000</td>\n",
       "      <td>48.0</td>\n",
       "      <td>0.0</td>\n",
       "      <td>0.0</td>\n",
       "      <td>0.0</td>\n",
       "      <td>0.0</td>\n",
       "      <td>...</td>\n",
       "      <td>0.0</td>\n",
       "      <td>0.0</td>\n",
       "      <td>0.0</td>\n",
       "      <td>0.0</td>\n",
       "      <td>0.0</td>\n",
       "      <td>0.0</td>\n",
       "      <td>0.0</td>\n",
       "      <td>0.0</td>\n",
       "      <td>0.0</td>\n",
       "      <td>0.0</td>\n",
       "    </tr>\n",
       "    <tr>\n",
       "      <th>835</th>\n",
       "      <td>2007.0</td>\n",
       "      <td>94.0</td>\n",
       "      <td>5.50000</td>\n",
       "      <td>73152.0000</td>\n",
       "      <td>17.540000</td>\n",
       "      <td>46.0</td>\n",
       "      <td>0.0</td>\n",
       "      <td>0.0</td>\n",
       "      <td>0.0</td>\n",
       "      <td>0.0</td>\n",
       "      <td>...</td>\n",
       "      <td>1.0</td>\n",
       "      <td>0.0</td>\n",
       "      <td>0.0</td>\n",
       "      <td>0.0</td>\n",
       "      <td>0.0</td>\n",
       "      <td>0.0</td>\n",
       "      <td>0.0</td>\n",
       "      <td>0.0</td>\n",
       "      <td>0.0</td>\n",
       "      <td>0.0</td>\n",
       "    </tr>\n",
       "    <tr>\n",
       "      <th>836</th>\n",
       "      <td>2008.0</td>\n",
       "      <td>98.0</td>\n",
       "      <td>6.20000</td>\n",
       "      <td>70699.0000</td>\n",
       "      <td>58.010000</td>\n",
       "      <td>50.0</td>\n",
       "      <td>0.0</td>\n",
       "      <td>0.0</td>\n",
       "      <td>0.0</td>\n",
       "      <td>0.0</td>\n",
       "      <td>...</td>\n",
       "      <td>0.0</td>\n",
       "      <td>1.0</td>\n",
       "      <td>0.0</td>\n",
       "      <td>0.0</td>\n",
       "      <td>1.0</td>\n",
       "      <td>0.0</td>\n",
       "      <td>0.0</td>\n",
       "      <td>0.0</td>\n",
       "      <td>0.0</td>\n",
       "      <td>0.0</td>\n",
       "    </tr>\n",
       "    <tr>\n",
       "      <th>837</th>\n",
       "      <td>2016.0</td>\n",
       "      <td>87.0</td>\n",
       "      <td>5.30000</td>\n",
       "      <td>12435.0000</td>\n",
       "      <td>19.640000</td>\n",
       "      <td>11.0</td>\n",
       "      <td>0.0</td>\n",
       "      <td>0.0</td>\n",
       "      <td>0.0</td>\n",
       "      <td>0.0</td>\n",
       "      <td>...</td>\n",
       "      <td>0.0</td>\n",
       "      <td>0.0</td>\n",
       "      <td>0.0</td>\n",
       "      <td>0.0</td>\n",
       "      <td>0.0</td>\n",
       "      <td>0.0</td>\n",
       "      <td>0.0</td>\n",
       "      <td>0.0</td>\n",
       "      <td>0.0</td>\n",
       "      <td>0.0</td>\n",
       "    </tr>\n",
       "    <tr>\n",
       "      <th>838</th>\n",
       "      <td>2013.0</td>\n",
       "      <td>112.0</td>\n",
       "      <td>6.81432</td>\n",
       "      <td>193230.2518</td>\n",
       "      <td>84.564558</td>\n",
       "      <td>60.0</td>\n",
       "      <td>0.0</td>\n",
       "      <td>0.0</td>\n",
       "      <td>0.0</td>\n",
       "      <td>0.0</td>\n",
       "      <td>...</td>\n",
       "      <td>0.0</td>\n",
       "      <td>0.0</td>\n",
       "      <td>0.0</td>\n",
       "      <td>0.0</td>\n",
       "      <td>0.0</td>\n",
       "      <td>0.0</td>\n",
       "      <td>0.0</td>\n",
       "      <td>0.0</td>\n",
       "      <td>0.0</td>\n",
       "      <td>0.0</td>\n",
       "    </tr>\n",
       "  </tbody>\n",
       "</table>\n",
       "<p>839 rows × 26 columns</p>\n",
       "</div>"
      ],
      "text/plain": [
       "       Year  Runtime (Minutes)   Rating        Votes  Revenue (Millions)  \\\n",
       "0    2014.0              121.0  8.10000  757074.0000          333.130000   \n",
       "1    2012.0              124.0  7.00000  485820.0000          126.460000   \n",
       "2    2016.0              117.0  7.30000  157606.0000          138.120000   \n",
       "3    2016.0              108.0  7.20000   60545.0000          270.320000   \n",
       "4    2016.0              123.0  6.20000  393727.0000          325.020000   \n",
       "..      ...                ...      ...          ...                 ...   \n",
       "834  2012.0               88.0  6.70000  164088.0000           54.720000   \n",
       "835  2007.0               94.0  5.50000   73152.0000           17.540000   \n",
       "836  2008.0               98.0  6.20000   70699.0000           58.010000   \n",
       "837  2016.0               87.0  5.30000   12435.0000           19.640000   \n",
       "838  2013.0              112.0  6.81432  193230.2518           84.564558   \n",
       "\n",
       "     Metascore  Action  Adventure  Aniimation  Biography  ...  Horror  Music  \\\n",
       "0         76.0     1.0        1.0         0.0        0.0  ...     0.0    0.0   \n",
       "1         65.0     0.0        1.0         0.0        0.0  ...     0.0    0.0   \n",
       "2         62.0     0.0        0.0         0.0        0.0  ...     1.0    0.0   \n",
       "3         59.0     0.0        0.0         1.0        0.0  ...     0.0    0.0   \n",
       "4         40.0     1.0        1.0         0.0        0.0  ...     0.0    0.0   \n",
       "..         ...     ...        ...         ...        ...  ...     ...    ...   \n",
       "834       48.0     0.0        0.0         0.0        0.0  ...     0.0    0.0   \n",
       "835       46.0     0.0        0.0         0.0        0.0  ...     1.0    0.0   \n",
       "836       50.0     0.0        0.0         0.0        0.0  ...     0.0    1.0   \n",
       "837       11.0     0.0        0.0         0.0        0.0  ...     0.0    0.0   \n",
       "838       60.0     0.0        0.0         0.0        0.0  ...     0.0    0.0   \n",
       "\n",
       "     Musical  Mystery  Romance  Sci-Fi  Sport  Thriller  War  Western  \n",
       "0        0.0      0.0      0.0     1.0    0.0       0.0  0.0      0.0  \n",
       "1        0.0      1.0      0.0     1.0    0.0       0.0  0.0      0.0  \n",
       "2        0.0      0.0      0.0     0.0    0.0       1.0  0.0      0.0  \n",
       "3        0.0      0.0      0.0     0.0    0.0       0.0  0.0      0.0  \n",
       "4        0.0      0.0      0.0     0.0    0.0       0.0  0.0      0.0  \n",
       "..       ...      ...      ...     ...    ...       ...  ...      ...  \n",
       "834      0.0      0.0      0.0     0.0    0.0       0.0  0.0      0.0  \n",
       "835      0.0      0.0      0.0     0.0    0.0       0.0  0.0      0.0  \n",
       "836      0.0      0.0      1.0     0.0    0.0       0.0  0.0      0.0  \n",
       "837      0.0      0.0      0.0     0.0    0.0       0.0  0.0      0.0  \n",
       "838      0.0      0.0      0.0     0.0    0.0       0.0  0.0      0.0  \n",
       "\n",
       "[839 rows x 26 columns]"
      ]
     },
     "execution_count": 31,
     "metadata": {},
     "output_type": "execute_result"
    }
   ],
   "source": [
    "x"
   ]
  },
  {
   "cell_type": "code",
   "execution_count": 32,
   "id": "b7c76bc9",
   "metadata": {},
   "outputs": [
    {
     "data": {
      "text/plain": [
       "0      1.0\n",
       "1      1.0\n",
       "2      0.0\n",
       "3      0.0\n",
       "4      0.0\n",
       "      ... \n",
       "834    0.0\n",
       "835    0.0\n",
       "836    0.0\n",
       "837    0.0\n",
       "838    0.0\n",
       "Name: Success, Length: 839, dtype: float64"
      ]
     },
     "execution_count": 32,
     "metadata": {},
     "output_type": "execute_result"
    }
   ],
   "source": [
    "y"
   ]
  },
  {
   "cell_type": "code",
   "execution_count": 33,
   "id": "6ebb07eb",
   "metadata": {},
   "outputs": [
    {
     "name": "stdout",
     "output_type": "stream",
     "text": [
      "Dataset saved as 'unreleased_movies.csv'.\n"
     ]
    }
   ],
   "source": [
    "import pandas as pd\n",
    "\n",
    "# Create the testing dataset\n",
    "data = {\n",
    "    \"Rank\": [1, 2, 3, 4, 5, 6, 7, 8 ,9 ,10],\n",
    "    \"Title\": [\n",
    "        \"Guardians of the Galaxy Vol. 3\",\n",
    "        \"Prometheus II\",\n",
    "        \"Split II\",\n",
    "        \"Sing II\",\n",
    "        \"Suicide Squad II\",\n",
    "        \"The Next Superhero\",\n",
    "        \"Love in Space\",\n",
    "        \"The Time Traveler's Diary\",\n",
    "        \"The Grand Adventure\",\n",
    "        \"Heroes of Tomorrow\"\n",
    "    ],\n",
    "    \"Genre\": [\n",
    "        \"Action,Adventure,Sci-Fi\",\n",
    "        \"Adventure,Mystery,Sci-Fi\",\n",
    "        \"Horror,Thriller\",\n",
    "        \"Animation,Comedy,Family\",\n",
    "        \"Action,Adventure,Fantasy\",\n",
    "        \"Action,Adventure,Fantasy\",\n",
    "        \"Romance,Sci-Fi\",\n",
    "        \"Adventure,Sci-Fi\",\n",
    "        \"Animation,Comedy\",\n",
    "        \"Action,Drama,Sci-Fi\"\n",
    "    ],\n",
    "    \"Description\": [\n",
    "        \"The Guardians must fight a new threat.\",\n",
    "        \"A sequel exploring the origins of mankind.\",\n",
    "        \"The return of the kidnapper with new personalities.\",\n",
    "        \"A new singing competition brings unexpected challenges.\",\n",
    "        \"The squad is back for another dangerous mission.\",\n",
    "        \"A young man discovers he has superpowers and must save the world from an impending alien invasion.\",\n",
    "        \"Two astronauts on a mission to Mars discover love in the unlikeliest of places: outer space.\",\n",
    "        \"A young woman discovers a diary that allows her to travel through time and change her past.\",\n",
    "        \"A group of animated characters set out on a grand adventure to save their world from an evil sorcerer.\",\n",
    "        \"In a dystopian future, a group of rebels fights against a corrupt government to restore peace and freedom.\"\n",
    "    ],\n",
    "    \"Director\": [\n",
    "        \"James Gunn\",\n",
    "        \"Ridley Scott\",\n",
    "        \"M. Night Shyamalan\",\n",
    "        \"Christophe Lourdelet\",\n",
    "        \"David Ayer\",\n",
    "        \"John Doe\",\n",
    "        \"Jane Smith\",\n",
    "        \"Mark Lee\",\n",
    "        \"Alice Johnson\",\n",
    "        \"Michael Bay\"\n",
    "    ],\n",
    "    \"Actors\": [\n",
    "        \"Chris Pratt, Vin Diesel, Zoe Saldana\",\n",
    "        \"Noomi Rapace, Michael Fassbender\",\n",
    "        \"James McAvoy, Anya Taylor-Joy\",\n",
    "        \"Matthew McConaughey, Reese Witherspoon\",\n",
    "        \"Will Smith, Margot Robbie\",\n",
    "        \"Chris Hemsworth, Scarlett Johansson\",\n",
    "        \"Emma Stone, Tom Holland\",\n",
    "        \"Zendaya, Jacob Elordi\",\n",
    "        \"Voices of Dwayne Johnson, Kristen Bell\",\n",
    "        \"Henry Cavill, Charlize Theron\"\n",
    "    ],\n",
    "    \"Year\": [2025, 2025, 2025, 2025, 2025, 2025, 2026, 2024, 2025, 2026],\n",
    "    \"Runtime (Minutes)\": [130, 115, 120, 125, 115, 130, 115, 125, 100, 140],\n",
    "    \"Rating\": [8.5, 7.9, 8.1, 7.5, 8.2, 8.5, 8.0, 8.2, 7.5, 9.0],\n",
    "    \"Votes\": [200000, 150000, 80000, 50000, 60000, 250000, 150000, 180000, 120000, 300000],\n",
    "    \"Revenue (Millions)\": [400.00, 250.00, 150.00, 50.00, 80.00, 600, 200, 350, 250, 700],\n",
    "    \"Metascore\": [85, 78, 82, 74, 80, 85, 90, 78, 75, 92],\n",
    "    \"Action\": [1, 0, 0, 0, 0, 1, 0, 0, 0, 1],\n",
    "    \"Adventure\": [1, 1, 0, 0, 0, 1, 0, 1, 0, 1],\n",
    "    \"Aniimation\": [0, 1, 0, 0, 0, 0, 0, 0, 1, 0],\n",
    "    \"Biography\": [0, 0, 0, 0, 0, 0, 0, 0, 0, 0],\n",
    "    \"Comedy\": [0, 1, 1, 0, 1, 0, 0, 0, 1, 0],\n",
    "    \"Crime\": [0, 0, 0, 0, 0, 0, 0, 0, 0, 0],\n",
    "    \"Drama\": [1, 0, 1, 1, 1, 1, 0, 0, 0, 1],\n",
    "    \"Family\": [0, 1, 0, 0, 0, 0, 0, 0, 1, 0],\n",
    "    \"Fantasy\": [1, 1, 0, 0, 0, 1, 1, 0, 0, 1],\n",
    "    \"History\": [0, 0, 0, 0, 0, 0, 0, 0, 0, 0],\n",
    "    \"Horror\": [0, 0, 0, 0, 0, 0, 0, 0, 0, 0],\n",
    "    \"Music\": [0, 0, 1, 0, 1, 0, 0, 0, 0, 0],\n",
    "    \"Musical\": [0, 0, 0, 0, 0, 0, 0, 0, 0, 0],\n",
    "    \"Mystery\": [0, 0, 0, 1, 0, 0, 0, 0, 0, 0],\n",
    "    \"Romance\": [0, 0, 0, 0, 0, 0, 1, 0, 0, 0],\n",
    "    \"Sci-Fi\": [0, 0, 0, 0, 0, 0, 1, 1, 0, 1],\n",
    "    \"Sport\": [0, 0, 0, 0, 0, 0, 0, 0, 0, 0 ],\n",
    "    \"Thriller\": [0, 0, 0, 0, 0, 0, 0, 0, 0, 0],\n",
    "    \"War\": [0, 0, 0, 0, 0, 0, 0, 0, 0, 0],\n",
    "    \"Western\": [0, 0, 0, 0, 0, 0, 0, 0, 0, 0],\n",
    "    \"Success\": [0, 0, 0, 0, 0, 0, 0, 0, 0, 0]  # Placeholder for success (0 for not released)\n",
    "}\n",
    "\n",
    "# Create a DataFrame\n",
    "test_df = pd.DataFrame(data)\n",
    "\n",
    "# Save the DataFrame to a CSV file\n",
    "test_df.to_csv(\"unreleased_movies.csv\", index=False)\n",
    "\n",
    "print(\"Dataset saved as 'unreleased_movies.csv'.\")\n"
   ]
  },
  {
   "cell_type": "code",
   "execution_count": 34,
   "id": "6610e84f",
   "metadata": {},
   "outputs": [],
   "source": [
    "# Load the unreleased movies dataset\n",
    "test_df = pd.read_csv(\"unreleased_movies.csv\")"
   ]
  },
  {
   "cell_type": "code",
   "execution_count": 35,
   "id": "5cb1139e",
   "metadata": {},
   "outputs": [
    {
     "name": "stderr",
     "output_type": "stream",
     "text": [
      "C:\\Users\\nwahi\\AppData\\Local\\Temp\\ipykernel_3588\\1395333907.py:2: FutureWarning: Dropping of nuisance columns in DataFrame reductions (with 'numeric_only=None') is deprecated; in a future version this will raise TypeError.  Select only valid columns before calling the reduction.\n",
      "  test_df = test_df.fillna(test_df.median())\n"
     ]
    }
   ],
   "source": [
    "# Fill missing values\n",
    "test_df = test_df.fillna(test_df.median())\n",
    "\n",
    "# Select the same features as used in training\n",
    "features = [\n",
    "    'Year', 'Runtime (Minutes)', 'Rating', 'Votes', \n",
    "    'Revenue (Millions)', 'Metascore', \n",
    "    'Action', 'Adventure', 'Aniimation', 'Biography', \n",
    "    'Comedy', 'Crime', 'Drama', 'Family', 'Fantasy', \n",
    "    'History', 'Horror', 'Music', 'Musical', \n",
    "    'Mystery', 'Romance', 'Sci-Fi', 'Sport', \n",
    "    'Thriller', 'War', 'Western'\n",
    "]\n",
    "\n",
    "# Prepare input data for prediction\n",
    "X_test = test_df[features]\n"
   ]
  },
  {
   "cell_type": "code",
   "execution_count": 36,
   "id": "30983525",
   "metadata": {},
   "outputs": [
    {
     "name": "stderr",
     "output_type": "stream",
     "text": [
      "C:\\Users\\nwahi\\AppData\\Local\\Temp\\ipykernel_3588\\1645169155.py:3: FutureWarning: Dropping of nuisance columns in DataFrame reductions (with 'numeric_only=None') is deprecated; in a future version this will raise TypeError.  Select only valid columns before calling the reduction.\n",
      "  df = df.fillna(df.median())  # Fill missing values again\n"
     ]
    },
    {
     "data": {
      "text/plain": [
       "DecisionTreeClassifier()"
      ]
     },
     "execution_count": 36,
     "metadata": {},
     "output_type": "execute_result"
    }
   ],
   "source": [
    "# Load the original dataset used for training\n",
    "df = pd.read_csv(\"Movie Success Rate Prediction Dataset/movie_success_rate.csv\")\n",
    "df = df.fillna(df.median())  # Fill missing values again\n",
    "\n",
    "# Prepare training data\n",
    "X = df[features]\n",
    "y = df['Success']\n",
    "\n",
    "# Split the data\n",
    "X_train, X_test_full, y_train, y_test_full = train_test_split(X, y, test_size=0.1, stratify=y)\n",
    "\n",
    "# Train the Decision Tree model\n",
    "tree = DecisionTreeClassifier()\n",
    "tree.fit(X_train, y_train)\n"
   ]
  },
  {
   "cell_type": "code",
   "execution_count": 37,
   "id": "92f2403b",
   "metadata": {},
   "outputs": [
    {
     "name": "stdout",
     "output_type": "stream",
     "text": [
      "                            Title  Predicted Success\n",
      "0  Guardians of the Galaxy Vol. 3                0.0\n",
      "1                   Prometheus II                0.0\n",
      "2                        Split II                0.0\n",
      "3                         Sing II                0.0\n",
      "4                Suicide Squad II                0.0\n",
      "5              The Next Superhero                1.0\n",
      "6                   Love in Space                0.0\n",
      "7       The Time Traveler's Diary                0.0\n",
      "8             The Grand Adventure                0.0\n",
      "9              Heroes of Tomorrow                1.0\n"
     ]
    }
   ],
   "source": [
    "# Make predictions\n",
    "predictions = tree.predict(X_test)\n",
    "\n",
    "# Add predictions to the test DataFrame\n",
    "test_df['Predicted Success'] = predictions\n",
    "\n",
    "# Print the predictions\n",
    "print(test_df[['Title', 'Predicted Success']])\n"
   ]
  },
  {
   "cell_type": "code",
   "execution_count": 38,
   "id": "51142c0d",
   "metadata": {},
   "outputs": [
    {
     "data": {
      "image/png": "[encoded data removed]",
      "text/plain": [
       "<Figure size 640x480 with 2 Axes>"
      ]
     },
     "metadata": {},
     "output_type": "display_data"
    }
   ],
   "source": [
    "# If you want to visualize the confusion matrix for the original test predictions\n",
    "clf = confusion_matrix(y_test_full, tree.predict(X_test_full))\n",
    "sns.heatmap(clf, annot=True)\n",
    "plt.title('Confusion Matrix')\n",
    "plt.xlabel('Predicted')\n",
    "plt.ylabel('Actual')\n",
    "plt.show()"
   ]
  },
  {
   "cell_type": "code",
   "execution_count": null,
   "id": "2b172378",
   "metadata": {},
   "outputs": [],
   "source": []
  }
 ],
 "metadata": {
  "kernelspec": {
   "display_name": "Python 3 (ipykernel)",
   "language": "python",
   "name": "python3"
  },
  "language_info": {
   "codemirror_mode": {
    "name": "ipython",
    "version": 3
   },
   "file_extension": ".py",
   "mimetype": "text/x-python",
   "name": "python",
   "nbconvert_exporter": "python",
   "pygments_lexer": "ipython3",
   "version": "3.9.13"
  }
 },
 "nbformat": 4,
 "nbformat_minor": 5
}
